{
 "cells": [
  {
   "cell_type": "markdown",
   "metadata": {},
   "source": [
    "<h1>Plot Luquillo CZO discharge data and USGS discharge data</h1>\n",
    "<p>1) First load standard python libraries</p>"
   ]
  },
  {
   "cell_type": "code",
   "execution_count": 1,
   "metadata": {},
   "outputs": [
    {
     "name": "stderr",
     "output_type": "stream",
     "text": [
      "/opt/conda/envs/python2/lib/python2.7/site-packages/ulmo/twc/kbdi/core.py:20: FutureWarning: pandas.tslib is deprecated and will be removed in a future version.\n",
      "You can access Timestamp as pandas.Timestamp\n",
      "  CSV_SWITCHOVER = pandas.tslib.Timestamp('2016-10-01')\n"
     ]
    }
   ],
   "source": [
    "%matplotlib inline\n",
    "\n",
    "import sys\n",
    "import os\n",
    "from datetime import datetime\n",
    "import pprint\n",
    "import numpy as np\n",
    "import getpass\n",
    "import pandas as pd\n",
    "import matplotlib.pyplot as plt\n",
    "from matplotlib.dates import DateFormatter\n",
    "from IPython.display import display, HTML\n",
    "import ipywidgets as widgets\n",
    "from utilities import hydroshare\n",
    "from odm2api.ODM2.services.readService import *\n",
    "from odm2api.ODM2.services.createService import *\n",
    "import ulmo\n",
    "import json\n",
    "from ulmo.usgs import nwis\n",
    "import warnings \n",
    "warnings.filterwarnings('ignore')"
   ]
  },
  {
   "cell_type": "markdown",
   "metadata": {},
   "source": [
    "<p>2) Next load odm2api components we will use </p>"
   ]
  },
  {
   "cell_type": "code",
   "execution_count": 2,
   "metadata": {},
   "outputs": [],
   "source": [
    "from odm2api.ODMconnection import dbconnection\n",
    "import odm2api.ODM2.services.readService as odm2\n",
    "from odm2api.ODM2.models import *"
   ]
  },
  {
   "cell_type": "markdown",
   "metadata": {},
   "source": [
    "<p>3) now connect to the database and instantiate the read service </p>"
   ]
  },
  {
   "cell_type": "code",
   "execution_count": 3,
   "metadata": {},
   "outputs": [
    {
     "name": "stdout",
     "output_type": "stream",
     "text": [
      "Adding the following system variables:\n",
      "   HS_USR_NAME = miguelcleon\n",
      "   HS_RES_ID = a5669d17013445c896a8397a8e22ece3\n",
      "   HS_RES_TYPE = timeseriesresource\n",
      "   JUPYTER_HUB_IP = jupyter.cuahsi.org\n",
      "\n",
      "These can be accessed using the following command: \n",
      "   os.environ[key]\n",
      "\n",
      "   (e.g.)\n",
      "   os.environ[\"HS_USR_NAME\"]  => miguelcleon\n",
      "\n",
      "The hs_utils library requires a secure connection to your HydroShare account.\n",
      "Enter the HydroShare password for user 'miguelcleon': ········\n",
      "Successfully established a connection with HydroShare\n",
      "This resource already exists in your userspace.\n",
      "Would you like to overwrite this data [Y/n]? n\n"
     ]
    },
    {
     "data": {
      "text/html": [
       "<b>Found the following file(s) associated with this HydroShare resource.</b>"
      ],
      "text/plain": [
       "<IPython.core.display.HTML object>"
      ]
     },
     "metadata": {},
     "output_type": "display_data"
    },
    {
     "data": {
      "text/html": [
       "LCZO-ODM2-MariaTimeSeries.sqlite"
      ],
      "text/plain": [
       "<IPython.core.display.HTML object>"
      ]
     },
     "metadata": {},
     "output_type": "display_data"
    },
    {
     "data": {
      "text/html": [
       "These files are stored in a dictionary called <b>hs.content</b> for your convenience.  To access a file, simply issue the following command where MY_FILE is one of the files listed above: <pre>hs.content[\"MY_FILE\"] </pre> "
      ],
      "text/plain": [
       "<IPython.core.display.HTML object>"
      ]
     },
     "metadata": {},
     "output_type": "display_data"
    }
   ],
   "source": [
    "#session_factory = dbconnection.createConnection('postgresql', database_address_text.value, database_text.value, \n",
    "#                                                username_text.value, p) \n",
    "#read = odm2.ReadODM2(session_factory)\n",
    "\n",
    "# get resource content.  Returns a dictionary of filenames and their paths \n",
    "hs = hydroshare.hydroshare()\n",
    "content = hs.getResourceFromHydroShare('e049f19dc8ba46c98754711da2ab6030')\n",
    "\n",
    "LCZOSensorDB = hs.content['LCZO-ODM2-MariaTimeSeries.sqlite']\n",
    "\n",
    "session_factory = dbconnection.createConnection('sqlite', LCZOSensorDB)\n",
    "read = ReadODM2(session_factory)\n",
    "write = CreateODM2(session_factory)"
   ]
  },
  {
   "cell_type": "markdown",
   "metadata": {},
   "source": [
    "\n",
    "<h3>Retrieve USGS data </h3>\n",
    "<p>4) use ulmo to connect to USGS data. </p>\n",
    "\n",
    "<p>5) setup a pandas dataframe and show some basic statistics about it.</p>"
   ]
  },
  {
   "cell_type": "code",
   "execution_count": 6,
   "metadata": {},
   "outputs": [
    {
     "name": "stderr",
     "output_type": "stream",
     "text": [
      "processing data from request: https://waterservices.usgs.gov/nwis/dv/?endDT=2017-09-30&startDT=2017-09-01&site=50067000&format=waterml\n",
      "processing data from request: https://nwis.waterservices.usgs.gov/nwis/iv/?endDT=2017-09-30T00%3A00%3A00&startDT=2017-09-01T00%3A00%3A00&site=50067000&format=waterml\n"
     ]
    },
    {
     "name": "stdout",
     "output_type": "stream",
     "text": [
      "             value\n",
      "count  2403.000000\n",
      "mean     73.890354\n",
      "std     335.053196\n",
      "min       9.220000\n",
      "25%      12.900000\n",
      "50%      14.400000\n",
      "75%      20.800000\n",
      "max    4700.000000\n"
     ]
    }
   ],
   "source": [
    "# nwis.hdf5.update_site_data('50067000',start='2017-09-01', end='2017-09-30')#   12189500\n",
    "\n",
    "# read daily mean discharge data from cache (statistics code 00003)\n",
    "#Rio Sabana\n",
    "data = nwis.get_site_data('50067000',start='2017-09-01', end='2017-09-30') #, parameter_code='00060:00003')['00060:00003']\n",
    "\n",
    "# print(data['value'])\n",
    "#for vals in data['values']:\n",
    "#    print(vals['value'] + ' ' + vals['datetime'])\n",
    "#for keys,values in data.items():\n",
    "#    print(keys)\n",
    "#    print(values)\n",
    "\n",
    "sabanaDf = pd.DataFrame(data['00060:00000']['values']).drop(['qualifiers'], axis=1).set_index('datetime')\n",
    "sabanaDf.value = sabanaDf.value.apply(np.float)\n",
    "sabanaDf.index = pd.to_datetime(sabanaDf.index).to_period('min')\n",
    "# sabanaDf['datetime'] = pd.Series(pd.to_datetime(data['00060:00000']['datetime']).to_period('min'), index = sabanaDf.index)\n",
    "#  Series(np.random.randn(sLength), index=df1.index)\n",
    "\n",
    "\n",
    "# mark bad data as NaN\n",
    "sabanaDf[sabanaDf.values == -999999] = np.nan\n",
    "print(sabanaDf.describe())\n"
   ]
  },
  {
   "cell_type": "markdown",
   "metadata": {},
   "source": [
    "<h3>Retrieve LCZO Data </h3>\n",
    "<p>6) Retrieve LCZO Discharge data from SQLite file we have loaded in the local environment. These data are for the Quebrada Sonadora a discontinued USGS gage the LCZO is now mangaing.</p>\n",
    "<p>7) Show basic statistics about the LCZO discharge data. </p> "
   ]
  },
  {
   "cell_type": "code",
   "execution_count": 9,
   "metadata": {},
   "outputs": [
    {
     "name": "stdout",
     "output_type": "stream",
     "text": [
      "count    2780.000000\n",
      "mean       22.126960\n",
      "std        44.040375\n",
      "min         7.430561\n",
      "25%         9.092660\n",
      "50%        11.239964\n",
      "75%        16.278315\n",
      "max       787.825819\n",
      "Name: datavalue, dtype: float64\n"
     ]
    }
   ],
   "source": [
    "# print(resultWidget.value)\n",
    "# print(resultWidget2.value)\n",
    "resultids = []\n",
    "resultnames = {}\n",
    "selectedResult = read.getDetailedResultInfo(resultTypeCV = 'Time series coverage',resultID=17274)\n",
    "resultidlist = list()\n",
    "resultidlist.append(17274)\n",
    "DischargeResultValues = read.getResultValues(resultids=resultidlist, starttime='2017-09-01', \n",
    "                                                 endtime= '2017-09-30')\n",
    "print(DischargeResultValues['datavalue'].describe())\n",
    "\n",
    "# get second time series \n",
    "\n",
    "\n"
   ]
  },
  {
   "cell_type": "markdown",
   "metadata": {},
   "source": [
    "<p>8) Format a plot and plot the selected time series</p>"
   ]
  },
  {
   "cell_type": "code",
   "execution_count": 10,
   "metadata": {},
   "outputs": [
    {
     "data": {
      "image/png": "[encoded data removed]",
      "text/plain": [
       "<Figure size 432x288 with 1 Axes>"
      ]
     },
     "metadata": {},
     "output_type": "display_data"
    }
   ],
   "source": [
    "dateFmt = DateFormatter('%m-%d')\n",
    "fig, ax = plt.subplots()\n",
    "# pprint.pprint(BaroPressureResultValues.__dict__)\n",
    "ax.plot_date(DischargeResultValues['valuedatetime'], DischargeResultValues['datavalue'])\n",
    "ax.xaxis.set_major_formatter(dateFmt)\n",
    "plt.xticks(rotation=70)\n",
    "for result in selectedResult:\n",
    "    plt.title(str(result.VariableCode) + ' Quebrada Sonadora September 2017')\n",
    "    plt.ylabel(result.UnitsName)\n",
    "\n",
    "    \n",
    "    \n",
    "#time_format = '%Y-%m-%d %H:%M'\n",
    "\n",
    "#time = [datetime.strptime(i, ti#me_format) for i in sabanaDf.index.to_series().astype(str)]\n",
    "# print(time)\n",
    "#ax.plot_date(time, sabanaDf['value'])\n",
    "#ax.xaxis.set_major_formatter(dateFmt)\n",
    "#plt.xticks(rotation=70)\n",
    "#for result in selectedResult2:\n",
    "#    plt.title(str(result.VariableCode) + ' September 2017')\n",
    "#    plt.ylabel(result.UnitsName)\n",
    "    \n",
    "# QS = 375 meters RI = 618 meters elevation "
   ]
  },
  {
   "cell_type": "markdown",
   "metadata": {},
   "source": [
    "<p>9) Use the numpy libaray to calculate some statistics about the time series</p> \n",
    "<p>10) Dynamically create histogram bins based on the time series standard deviation and graph the histogram</p>"
   ]
  },
  {
   "cell_type": "code",
   "execution_count": 11,
   "metadata": {},
   "outputs": [
    {
     "data": {
      "image/png": "[encoded data removed]",
      "text/plain": [
       "<Figure size 432x288 with 1 Axes>"
      ]
     },
     "metadata": {},
     "output_type": "display_data"
    }
   ],
   "source": [
    "dateFmt = DateFormatter('%m-%d')\n",
    "fig, ax = plt.subplots()\n",
    "# pprint.pprint(BaroPressureResultValues.__dict__)\n",
    "time_format = '%Y-%m-%d %H:%M'\n",
    "\n",
    "time = [datetime.strptime(i, time_format) for i in sabanaDf.index.to_series().astype(str)]\n",
    "# print(time)\n",
    "ax.plot_date(time, sabanaDf['value'])\n",
    "ax.xaxis.set_major_formatter(dateFmt)\n",
    "plt.xticks(rotation=70)\n",
    "for result in selectedResult:\n",
    "    plt.title(str(result.VariableCode) + ' Rio Sabana September 2017')\n",
    "    plt.ylabel(result.UnitsName)\n",
    "    \n",
    "# QS = 375 meters RI = 618 meters elevation "
   ]
  },
  {
   "cell_type": "code",
   "execution_count": null,
   "metadata": {},
   "outputs": [],
   "source": []
  }
 ],
 "metadata": {
  "kernelspec": {
   "display_name": "Python 2.7",
   "language": "python",
   "name": "python2"
  },
  "language_info": {
   "codemirror_mode": {
    "name": "ipython",
    "version": 2
   },
   "file_extension": ".py",
   "mimetype": "text/x-python",
   "name": "python",
   "nbconvert_exporter": "python",
   "pygments_lexer": "ipython2",
   "version": "2.7.14"
  },
  "widgets": {
   "state": {
    "fcb15f2d06154012851b3a8d210d70a4": {
     "views": [
      {
       "cell_index": 9
      }
     ]
    }
   },
   "version": "1.2.0"
  }
 },
 "nbformat": 4,
 "nbformat_minor": 1
}
